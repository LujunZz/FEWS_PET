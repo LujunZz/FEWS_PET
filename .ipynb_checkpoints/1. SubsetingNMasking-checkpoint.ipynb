{
 "cells": [
  {
   "cell_type": "code",
   "execution_count": 2,
   "metadata": {},
   "outputs": [],
   "source": [
    "################################################################\n",
    "# Scirpt_Name: FEWS_PET_Organizing.py                          #\n",
    "# Purpose(s): 1. Cliping and masking the FEWS PET dataset in   # \n",
    "#                .nc format using the provided .shp file       #\n",
    "#             2. Subseting the FEWS PET dataset in .nc format  #\n",
    "#                according the time period of interests        #\n",
    "################################################################\n",
    "# Written by Lujun Zhang @ U of Oklahoma 06/16/2020            #\n",
    "# REVISION HISTORY                                             #\n",
    "# 20200616 -- Initial section one completed by Lujun @ OU      #\n",
    "################################################################\n",
    "# Requie packages: Numpy, Pandas, necCDF4                      #\n",
    "################################################################"
   ]
  },
  {
   "cell_type": "code",
   "execution_count": 3,
   "metadata": {},
   "outputs": [],
   "source": [
    "from numpy import *\n",
    "import numpy as np\n",
    "import pandas as pd\n",
    "import numpy.ma as ma\n",
    "import os\n",
    "import sys\n",
    "import wget\n",
    "import time\n",
    "import datetime\n",
    "import matplotlib as mpl \n",
    "from osgeo import gdal, ogr\n",
    "from netCDF4 import Dataset\n",
    "from datetime import timedelta\n",
    "import matplotlib.pyplot as plt\n",
    "from mpl_toolkits.basemap import Basemap"
   ]
  },
  {
   "cell_type": "code",
   "execution_count": 4,
   "metadata": {},
   "outputs": [],
   "source": [
    "def PET_clipNmask(ncInput,ShpFileDirec):\n",
    "    '''\n",
    "    This function aim at regirdded NMME2 datasets with 0.25 degree resolution：\n",
    "    1) Clipping the input NC dataset according to the shapefile;\n",
    "    2) Masking the clipped NC dataset according to the shapefile;\n",
    "    NCDataset -- a NetCDF4.Dataset object\n",
    "    ShpFilePath -- a string of the shapefile address\n",
    "    The function returns a numpy.masked.array\n",
    "    '''\n",
    "    #read shapefile   \n",
    "    shpDS = ogr.Open(ShpFileDirec)\n",
    "    shpLyr = shpDS.GetLayer()\n",
    "    Envelop = shpLyr.GetExtent() \n",
    "    xmin,xmax,ymin,ymax = [Envelop[0],Envelop[1],Envelop[2],Envelop[3]]    #Your extents as given above\n",
    "    xmin = floor(xmin)-0.5\n",
    "    xmax = floor(xmax)-0.5\n",
    "    ymin = floor(ymin)\n",
    "    ymax = floor(ymax)\n",
    "    mask_RES = []\n",
    "    ######################################################\n",
    "    #                Extract Origin Data                 #\n",
    "    ######################################################\n",
    "    lon_Ori = ncInput['Lon'][:]\n",
    "    lat_Ori = ncInput['Lat'][:]\n",
    "    varData_Ori = ncInput['PET'][:]\n",
    "    \n",
    "    lat_bnds, lon_bnds = [ymin, ymax], [xmin,xmax]\n",
    "    lat_inds = np.where((lat_Ori >= (lat_bnds[0])) & (lat_Ori <= lat_bnds[1]))\n",
    "    lon_inds = np.where((lon_Ori >= (lon_bnds[0])) & (lon_Ori <= lon_bnds[1]))\n",
    "    ##Set Mask\n",
    "    var_subset = varData_Ori[:,min(lon_inds[0]):max(lon_inds[0])+1,min(lat_inds[0]):max(lat_inds[0])+1]\n",
    "    #var_subset.__setmask__(mask) # update mask (flipud is reverse 180)\n",
    "    lat_subset = lat_Ori[min(lat_inds[0]):max(lat_inds[0])+1] \n",
    "    lon_subset = lon_Ori[min(lon_inds[0]):max(lon_inds[0])+1]\n",
    "\n",
    "    return var_subset, lat_subset, lon_subset"
   ]
  },
  {
   "cell_type": "markdown",
   "metadata": {},
   "source": [
    "## Clipping N Masking datasets using Shapefiles"
   ]
  },
  {
   "cell_type": "code",
   "execution_count": 6,
   "metadata": {},
   "outputs": [],
   "source": [
    "ncIn = Dataset('F:/FEWS_PET/PEWS_2001to2019_Daily_PET.nc')\n",
    "for i in [7197000,7301500,7315700]:\n",
    "    ShpFileDirec = 'C:/Users/zhan0101/Documents/GitHub/NMME2_Research/10. ESP-Vs-NWP/Shp/OK'+str(i)+'_Shifted.shp'\n",
    "    Data = PET_clipNmask(ncIn,ShpFileDirec)[0]\n",
    "    idx = pd.date_range(start='2001/02/01', end='2019/12/31', freq=\"d\")\n",
    "    mean_areal_value = np.mean(Data,axis=(1,2))\n",
    "    mean_areal_value = pd.DataFrame(data=mean_areal_value,index=idx,columns=None)\n",
    "    mean_areal_value.to_csv('C:/Users/zhan0101/Documents/GitHub/NMME2_Research/10. ESP-Vs-NWP/'+str(i)+'_PET.csv')"
   ]
  }
 ],
 "metadata": {
  "kernelspec": {
   "display_name": "Python 3",
   "language": "python",
   "name": "python3"
  },
  "language_info": {
   "codemirror_mode": {
    "name": "ipython",
    "version": 3
   },
   "file_extension": ".py",
   "mimetype": "text/x-python",
   "name": "python",
   "nbconvert_exporter": "python",
   "pygments_lexer": "ipython3",
   "version": "3.7.4"
  }
 },
 "nbformat": 4,
 "nbformat_minor": 4
}
